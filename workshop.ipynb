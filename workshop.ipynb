{
 "cells": [
  {
   "cell_type": "code",
   "execution_count": 62,
   "metadata": {},
   "outputs": [
    {
     "name": "stdout",
     "output_type": "stream",
     "text": [
      "Requirement already satisfied: snakeviz in /home/boris/.local/lib/python3.8/site-packages (2.1.0)\n",
      "Requirement already satisfied: tornado>=2.0 in /home/boris/.local/lib/python3.8/site-packages (from snakeviz) (6.0.4)\n",
      "Requirement already satisfied: joblib in /home/boris/.local/lib/python3.8/site-packages (0.16.0)\n"
     ]
    }
   ],
   "source": [
    "!pip install snakeviz\n",
    "!pip install joblib"
   ]
  },
  {
   "cell_type": "code",
   "execution_count": 6,
   "metadata": {},
   "outputs": [],
   "source": [
    "import pandas as pd\n",
    "import numpy as np\n",
    "from matplotlib import pyplot as plt\n",
    "import sklearn\n",
    "%matplotlib inline"
   ]
  },
  {
   "cell_type": "markdown",
   "metadata": {},
   "source": [
    "# A very hard function"
   ]
  },
  {
   "cell_type": "code",
   "execution_count": 64,
   "metadata": {},
   "outputs": [],
   "source": [
    "X = np.random.randn(1000) + 8.342"
   ]
  },
  {
   "cell_type": "code",
   "execution_count": 65,
   "metadata": {},
   "outputs": [],
   "source": [
    "def scalar_sum(X, y):\n",
    "    return sum( x*y for x in X )\n",
    "\n",
    "def pairwise_sum(X):\n",
    "    return( sum( scalar_sum(X, y) for y in X ) )"
   ]
  },
  {
   "cell_type": "code",
   "execution_count": 66,
   "metadata": {},
   "outputs": [
    {
     "data": {
      "text/plain": [
       "69944820.23232244"
      ]
     },
     "execution_count": 66,
     "metadata": {},
     "output_type": "execute_result"
    }
   ],
   "source": [
    "pairwise_sum(X)"
   ]
  },
  {
   "cell_type": "code",
   "execution_count": 67,
   "metadata": {},
   "outputs": [
    {
     "name": "stdout",
     "output_type": "stream",
     "text": [
      "416 ms ± 22.2 ms per loop (mean ± std. dev. of 7 runs, 1 loop each)\n"
     ]
    }
   ],
   "source": [
    "%%timeit \n",
    "pairwise_sum(X)"
   ]
  },
  {
   "cell_type": "markdown",
   "metadata": {},
   "source": [
    "# Profiling"
   ]
  },
  {
   "cell_type": "markdown",
   "metadata": {},
   "source": [
    "### Level 1 crook: just see if its slow"
   ]
  },
  {
   "cell_type": "code",
   "execution_count": 68,
   "metadata": {},
   "outputs": [
    {
     "name": "stdout",
     "output_type": "stream",
     "text": [
      "442 ms ± 36.6 ms per loop (mean ± std. dev. of 7 runs, 1 loop each)\n"
     ]
    }
   ],
   "source": [
    "%%timeit\n",
    "pairwise_sum(X)"
   ]
  },
  {
   "cell_type": "markdown",
   "metadata": {},
   "source": [
    "### Level 10: cprofile via %%pprun, get what takes the most time"
   ]
  },
  {
   "cell_type": "code",
   "execution_count": 70,
   "metadata": {},
   "outputs": [
    {
     "name": "stdout",
     "output_type": "stream",
     "text": [
      "         23941746 function calls (23797846 primitive calls) in 15.919 seconds\n",
      "\n",
      "   Ordered by: cumulative time\n",
      "   List reduced from 210 to 10 due to restriction <10>\n",
      "\n",
      "   ncalls  tottime  percall  cumtime  percall filename:lineno(function)\n",
      "        1    0.000    0.000   15.919   15.919 {built-in method builtins.exec}\n",
      "        1    0.031    0.031   15.919   15.919 <string>:1(<module>)\n",
      "      100    0.225    0.002   15.888    0.159 <ipython-input-65-5b302972ac1f>:1(compute_parwise_products)\n",
      "    46500    0.110    0.000   11.988    0.000 common.py:49(new_method)\n",
      "    46500    0.204    0.000   11.721    0.000 __init__.py:495(wrapper)\n",
      "    46500    0.175    0.000    6.289    0.000 __init__.py:448(_construct_result)\n",
      "    46500    0.499    0.000    5.717    0.000 series.py:183(__init__)\n",
      "    46500    0.343    0.000    3.660    0.000 array_ops.py:156(arithmetic_op)\n",
      "    93100    0.346    0.000    2.956    0.000 blocks.py:2987(get_block_type)\n",
      "      100    0.001    0.000    2.539    0.025 frame.py:414(__init__)\n",
      " \n",
      "*** Profile printout saved to text file 'prun0'. \n"
     ]
    }
   ],
   "source": [
    "%%prun -s cumulative -q -l 10 -T prun0\n",
    "\n",
    "times = 10\n",
    "for i in range(times):\n",
    "    pairwise_sum(X)\n",
    "\n",
    "print(open('prun0', 'r').read())"
   ]
  },
  {
   "cell_type": "markdown",
   "metadata": {},
   "source": [
    "### Level 100 boss: snakeviz"
   ]
  },
  {
   "cell_type": "code",
   "execution_count": 71,
   "metadata": {},
   "outputs": [],
   "source": [
    "%load_ext snakeviz"
   ]
  },
  {
   "cell_type": "code",
   "execution_count": 75,
   "metadata": {},
   "outputs": [
    {
     "name": "stdout",
     "output_type": "stream",
     "text": [
      "         10040076 function calls (10030076 primitive calls) in 6.024 seconds\n",
      "\n",
      "   Ordered by: cumulative time\n",
      "   List reduced from 30 to 10 due to restriction <10>\n",
      "\n",
      "   ncalls  tottime  percall  cumtime  percall filename:lineno(function)\n",
      "        1    0.000    0.000    6.024    6.024 {built-in method builtins.exec}\n",
      "        1    0.000    0.000    6.024    6.024 <string>:1(<module>)\n",
      "       10    0.000    0.000    6.023    0.602 <ipython-input-65-cd67089fa966>:4(pairwise_sum)\n",
      " 10010/10    2.969    0.000    6.023    0.602 {built-in method builtins.sum}\n",
      "    10010    0.010    0.000    6.017    0.001 <ipython-input-65-cd67089fa966>:5(<genexpr>)\n",
      "    10000    0.011    0.000    6.008    0.001 <ipython-input-65-cd67089fa966>:1(scalar_sum)\n",
      " 10010000    3.033    0.000    3.033    0.000 <ipython-input-65-cd67089fa966>:2(<genexpr>)\n",
      "        1    0.000    0.000    0.001    0.001 {built-in method builtins.print}\n",
      "        2    0.000    0.000    0.001    0.000 iostream.py:386(write)\n",
      "        3    0.000    0.000    0.000    0.000 iostream.py:197(schedule)\n",
      " \n",
      "*** Profile stats marshalled to file '/tmp/tmpoqwagcoe'. \n",
      "Embedding SnakeViz in this document...\n"
     ]
    },
    {
     "data": {
      "text/html": [
       "\n",
       "<iframe id='snakeviz-2abe3cae-7dad-11eb-85fc-570d3ace7933' frameborder=0 seamless width='100%' height='1000'></iframe>\n",
       "<script>document.getElementById(\"snakeviz-2abe3cae-7dad-11eb-85fc-570d3ace7933\").setAttribute(\"src\", \"http://\" + document.location.hostname + \":8080/snakeviz/%2Ftmp%2Ftmpoqwagcoe\")</script>\n"
      ],
      "text/plain": [
       "<IPython.core.display.HTML object>"
      ]
     },
     "metadata": {},
     "output_type": "display_data"
    }
   ],
   "source": [
    "%%snakeviz\n",
    "\n",
    "times = 10\n",
    "for i in range(times):\n",
    "    pairwise_sum(X)\n",
    "\n",
    "print(open('prun0', 'r').read())"
   ]
  },
  {
   "cell_type": "markdown",
   "metadata": {},
   "source": [
    "# Multiprocessing"
   ]
  },
  {
   "cell_type": "code",
   "execution_count": 34,
   "metadata": {},
   "outputs": [],
   "source": [
    "from multiprocessing import Pool"
   ]
  },
  {
   "cell_type": "code",
   "execution_count": 35,
   "metadata": {},
   "outputs": [
    {
     "name": "stdout",
     "output_type": "stream",
     "text": [
      "126 ms ± 12.7 ms per loop (mean ± std. dev. of 7 runs, 10 loops each)\n"
     ]
    }
   ],
   "source": [
    "def scalar_wrapper(args):\n",
    "    return scalar_sum(*args)\n",
    "\n",
    "p = Pool(4)\n",
    "%timeit sum(p.map( scalar_wrapper, ((X, y) for y in X) ))\n",
    "p.close()"
   ]
  },
  {
   "cell_type": "markdown",
   "metadata": {},
   "source": [
    "## Joblib"
   ]
  },
  {
   "cell_type": "code",
   "execution_count": 36,
   "metadata": {},
   "outputs": [],
   "source": [
    "from joblib import Parallel, delayed"
   ]
  },
  {
   "cell_type": "code",
   "execution_count": 37,
   "metadata": {},
   "outputs": [
    {
     "name": "stdout",
     "output_type": "stream",
     "text": [
      "143 ms ± 23.9 ms per loop (mean ± std. dev. of 7 runs, 1 loop each)\n"
     ]
    }
   ],
   "source": [
    "%timeit sum(Parallel(n_jobs=4)(delayed(scalar_wrapper)((X, y)) for y in X))"
   ]
  },
  {
   "cell_type": "markdown",
   "metadata": {},
   "source": [
    "# Cython"
   ]
  },
  {
   "cell_type": "code",
   "execution_count": 38,
   "metadata": {},
   "outputs": [
    {
     "name": "stdout",
     "output_type": "stream",
     "text": [
      "The Cython extension is already loaded. To reload it, use:\n",
      "  %reload_ext Cython\n"
     ]
    }
   ],
   "source": [
    "%load_ext Cython"
   ]
  },
  {
   "cell_type": "code",
   "execution_count": 39,
   "metadata": {},
   "outputs": [],
   "source": [
    "%%cython\n",
    "cimport numpy\n",
    "\n",
    "cdef double scalar_sum_optim(double* X, double y, int n):\n",
    "    cdef int i\n",
    "    cdef double _sum = 0.0\n",
    "    \n",
    "    for i in range(n):\n",
    "        _sum += X[i] * y\n",
    "    \n",
    "    return _sum\n",
    "\n",
    "cpdef pairwise_sum_optim(numpy.ndarray X_ndarray):\n",
    "    cdef int i, n = X_ndarray.shape[0]\n",
    "    cdef double* X = <double*> X_ndarray.data\n",
    "    cdef double _sum = 0.0\n",
    "    \n",
    "    for i in range(n):\n",
    "        _sum += scalar_sum_optim(X, X[i], n)\n",
    "        \n",
    "    return _sum"
   ]
  },
  {
   "cell_type": "code",
   "execution_count": 40,
   "metadata": {},
   "outputs": [
    {
     "name": "stdout",
     "output_type": "stream",
     "text": [
      "1.64 ms ± 6.31 µs per loop (mean ± std. dev. of 7 runs, 1000 loops each)\n"
     ]
    }
   ],
   "source": [
    "%%timeit\n",
    "pairwise_sum_optim(X)"
   ]
  },
  {
   "cell_type": "markdown",
   "metadata": {},
   "source": [
    "### Cython + Joblib + Turning GIL off"
   ]
  },
  {
   "cell_type": "code",
   "execution_count": 41,
   "metadata": {},
   "outputs": [],
   "source": [
    "%%cython\n",
    "cimport numpy\n",
    "from joblib import Parallel, delayed\n",
    "\n",
    "cdef double scalar_sum_hyperoptim(double* X, double* y, int n, int m) nogil:\n",
    "    cdef int i, j\n",
    "    cdef double _sum = 0.0\n",
    "    \n",
    "    for i in range(n):\n",
    "        for j in range(m):\n",
    "            _sum += X[i] * y[j]\n",
    "    \n",
    "    return _sum\n",
    "\n",
    "cpdef double scalar_wrapper(numpy.ndarray X_ndarray, numpy.ndarray y_ndarray):\n",
    "    cdef double* X = <double*> X_ndarray.data\n",
    "    cdef double* y = <double*> y_ndarray.data\n",
    "    cdef int n = X_ndarray.shape[0], m = y_ndarray.shape[0]\n",
    "    cdef double _sum\n",
    "    \n",
    "    with nogil:\n",
    "        _sum = scalar_sum_hyperoptim(X, y, n, m)\n",
    "    return _sum\n",
    "\n",
    "cpdef pairwise_sum_hyperoptim(numpy.ndarray X, int n_threads=1):\n",
    "    cdef double _sum\n",
    "    \n",
    "    _sum = sum( Parallel(n_jobs=n_threads, backend='threading')([ delayed(scalar_wrapper, check_pickle=False)(X, X[i::n_threads]) for i in range(n_threads) ]) )\n",
    "        \n",
    "    return _sum"
   ]
  },
  {
   "cell_type": "code",
   "execution_count": 42,
   "metadata": {},
   "outputs": [],
   "source": [
    "X = np.random.randn(10000) + 8.342"
   ]
  },
  {
   "cell_type": "code",
   "execution_count": 43,
   "metadata": {},
   "outputs": [
    {
     "name": "stdout",
     "output_type": "stream",
     "text": [
      "167 ms ± 283 µs per loop (mean ± std. dev. of 7 runs, 10 loops each)\n"
     ]
    }
   ],
   "source": [
    "%timeit pairwise_sum_optim(X)"
   ]
  },
  {
   "cell_type": "code",
   "execution_count": 44,
   "metadata": {},
   "outputs": [
    {
     "name": "stdout",
     "output_type": "stream",
     "text": [
      "44.6 ms ± 209 µs per loop (mean ± std. dev. of 7 runs, 10 loops each)\n"
     ]
    }
   ],
   "source": [
    "%timeit pairwise_sum_hyperoptim(X, n_threads=4)"
   ]
  },
  {
   "cell_type": "markdown",
   "metadata": {},
   "source": [
    "# Numba"
   ]
  },
  {
   "cell_type": "code",
   "execution_count": 45,
   "metadata": {},
   "outputs": [],
   "source": [
    "import numba\n",
    "from numba import jit, prange"
   ]
  },
  {
   "cell_type": "code",
   "execution_count": 46,
   "metadata": {},
   "outputs": [],
   "source": [
    "X = np.random.randn(1000) + 8.342"
   ]
  },
  {
   "cell_type": "code",
   "execution_count": 50,
   "metadata": {},
   "outputs": [],
   "source": [
    "@jit(nopython=True) # Do not set parallel=True here or it will crash\n",
    "def scalar_sum_numba(X, y): \n",
    "    running_sum = 0\n",
    "    for i in range(len(X)):\n",
    "        running_sum += y * X[i]\n",
    "    return running_sum\n",
    "\n",
    "@jit(nopython=True, parallel=True)\n",
    "def pairwise_sum_numba(X):\n",
    "    running_sum = 0\n",
    "    for i in prange(len(X)): # Parallelized!\n",
    "        running_sum += scalar_sum_numba(X, X[i])\n",
    "    return running_sum"
   ]
  },
  {
   "cell_type": "code",
   "execution_count": 51,
   "metadata": {},
   "outputs": [
    {
     "data": {
      "text/plain": [
       "69412062.18552035"
      ]
     },
     "execution_count": 51,
     "metadata": {},
     "output_type": "execute_result"
    }
   ],
   "source": [
    "pairwise_sum_numba(X)"
   ]
  },
  {
   "cell_type": "code",
   "execution_count": 52,
   "metadata": {},
   "outputs": [
    {
     "name": "stdout",
     "output_type": "stream",
     "text": [
      "566 µs ± 54.2 µs per loop (mean ± std. dev. of 7 runs, 1000 loops each)\n"
     ]
    }
   ],
   "source": [
    "%timeit pairwise_sum_numba(X)"
   ]
  },
  {
   "cell_type": "markdown",
   "metadata": {},
   "source": [
    "# Dask"
   ]
  },
  {
   "cell_type": "code",
   "execution_count": 14,
   "metadata": {},
   "outputs": [
    {
     "name": "stdout",
     "output_type": "stream",
     "text": [
      "Requirement already satisfied: dask in /home/boris/.local/lib/python3.8/site-packages (2.20.0)\n",
      "Requirement already satisfied: distributed in /home/boris/.local/lib/python3.8/site-packages (2.20.0)\n",
      "Collecting graphviz\n",
      "  Downloading graphviz-0.16-py2.py3-none-any.whl (19 kB)\n",
      "Requirement already satisfied: pyyaml in /usr/lib/python3/dist-packages (from dask) (5.3.1)\n",
      "Requirement already satisfied: tblib>=1.6.0 in /home/boris/.local/lib/python3.8/site-packages (from distributed) (1.6.0)\n",
      "Requirement already satisfied: click>=6.6 in /home/boris/.local/lib/python3.8/site-packages (from distributed) (7.1.2)\n",
      "Requirement already satisfied: sortedcontainers!=2.0.0,!=2.0.1 in /home/boris/.local/lib/python3.8/site-packages (from distributed) (2.2.2)\n",
      "Requirement already satisfied: msgpack>=0.6.0 in /home/boris/.local/lib/python3.8/site-packages (from distributed) (1.0.0)\n",
      "Requirement already satisfied: zict>=0.1.3 in /home/boris/.local/lib/python3.8/site-packages (from distributed) (2.0.0)\n",
      "Requirement already satisfied: tornado>=6.0.3; python_version >= \"3.8\" in /home/boris/.local/lib/python3.8/site-packages (from distributed) (6.0.4)\n",
      "Requirement already satisfied: toolz>=0.8.2 in /home/boris/.local/lib/python3.8/site-packages (from distributed) (0.10.0)\n",
      "Requirement already satisfied: setuptools in /usr/lib/python3/dist-packages (from distributed) (45.2.0)\n",
      "Requirement already satisfied: cloudpickle>=1.3.0 in /home/boris/.local/lib/python3.8/site-packages (from distributed) (1.5.0)\n",
      "Requirement already satisfied: psutil>=5.0 in /home/boris/.local/lib/python3.8/site-packages (from distributed) (5.7.0)\n",
      "Requirement already satisfied: heapdict in /home/boris/.local/lib/python3.8/site-packages (from zict>=0.1.3->distributed) (1.0.1)\n",
      "Installing collected packages: graphviz\n",
      "Successfully installed graphviz-0.16\n"
     ]
    }
   ],
   "source": [
    "!pip install dask distributed graphviz"
   ]
  },
  {
   "cell_type": "code",
   "execution_count": 11,
   "metadata": {},
   "outputs": [
    {
     "name": "stderr",
     "output_type": "stream",
     "text": [
      "/home/boris/.local/lib/python3.8/site-packages/distributed/node.py:151: UserWarning: Port 8787 is already in use.\n",
      "Perhaps you already have a cluster running?\n",
      "Hosting the HTTP server on port 39955 instead\n",
      "  warnings.warn(\n"
     ]
    }
   ],
   "source": [
    "from dask.distributed import Client\n",
    "from dask import delayed\n",
    "\n",
    "client = Client(n_workers=4)"
   ]
  },
  {
   "cell_type": "code",
   "execution_count": 47,
   "metadata": {},
   "outputs": [
    {
     "data": {
      "text/plain": [
       "Delayed('sum-9a07b26d-ddbf-44d1-b9ad-3fefac027827')"
      ]
     },
     "execution_count": 47,
     "metadata": {},
     "output_type": "execute_result"
    }
   ],
   "source": [
    "def scalar_sum(X, y):\n",
    "    return sum( x*y for x in X )\n",
    "\n",
    "def pairwise_sum_chunk(X, ys):\n",
    "    running_sum = 0\n",
    "    for y in ys:\n",
    "        running_sum += scalar_sum(X, y)\n",
    "    return running_sum\n",
    "\n",
    "def pairwise_sum_dask_schedule(X, chunks=10):\n",
    "    chunk_size = X.shape[0]//chunks\n",
    "    results = []\n",
    "    for i in range(0, len(X), chunk_size):\n",
    "        chunk_ys = X[i:i+chunk_size]\n",
    "        results.append(delayed(pairwise_sum_chunk)(X, chunk_ys))\n",
    "\n",
    "    total = delayed(sum)(results)\n",
    "    return total\n",
    "\n",
    "total = pairwise_sum_dask_schedule(X)\n",
    "total"
   ]
  },
  {
   "cell_type": "code",
   "execution_count": 48,
   "metadata": {},
   "outputs": [
    {
     "data": {
      "image/png": "[encoded data removed]",
      "text/plain": [
       "<IPython.core.display.Image object>"
      ]
     },
     "execution_count": 48,
     "metadata": {},
     "output_type": "execute_result"
    }
   ],
   "source": [
    "# Cool visualization will only appear if you have graphviz system lib installed\n",
    "# Try: apt-get install graphviz\n",
    "total.visualize()"
   ]
  },
  {
   "cell_type": "code",
   "execution_count": 49,
   "metadata": {},
   "outputs": [
    {
     "data": {
      "text/plain": [
       "69354347.35005006"
      ]
     },
     "execution_count": 49,
     "metadata": {},
     "output_type": "execute_result"
    }
   ],
   "source": [
    "total.compute()"
   ]
  },
  {
   "cell_type": "code",
   "execution_count": 50,
   "metadata": {},
   "outputs": [
    {
     "name": "stdout",
     "output_type": "stream",
     "text": [
      "698 µs ± 15.7 µs per loop (mean ± std. dev. of 7 runs, 1000 loops each)\n"
     ]
    }
   ],
   "source": [
    "%%timeit\n",
    "\n",
    "total = pairwise_sum_dask_schedule(X)"
   ]
  },
  {
   "cell_type": "code",
   "execution_count": 53,
   "metadata": {},
   "outputs": [
    {
     "name": "stdout",
     "output_type": "stream",
     "text": [
      "169 ms ± 5.94 ms per loop (mean ± std. dev. of 7 runs, 10 loops each)\n"
     ]
    }
   ],
   "source": [
    "%%timeit\n",
    "\n",
    "total = pairwise_sum_dask_schedule(X)\n",
    "total.compute()"
   ]
  },
  {
   "cell_type": "code",
   "execution_count": 3,
   "metadata": {},
   "outputs": [],
   "source": [
    "client.close()"
   ]
  }
 ],
 "metadata": {
  "kernelspec": {
   "display_name": "Python 3",
   "language": "python",
   "name": "python3"
  },
  "language_info": {
   "codemirror_mode": {
    "name": "ipython",
    "version": 3
   },
   "file_extension": ".py",
   "mimetype": "text/x-python",
   "name": "python",
   "nbconvert_exporter": "python",
   "pygments_lexer": "ipython3",
   "version": "3.8.5"
  }
 },
 "nbformat": 4,
 "nbformat_minor": 4
}
